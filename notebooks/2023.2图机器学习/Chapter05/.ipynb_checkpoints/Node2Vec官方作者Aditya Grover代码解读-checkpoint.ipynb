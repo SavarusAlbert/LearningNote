{
 "cells": [
  {
   "cell_type": "code",
   "execution_count": 1,
   "id": "3e4e00b5",
   "metadata": {},
   "outputs": [],
   "source": [
    "import warnings\n",
    "warnings.filterwarnings('ignore')\n",
    "import argparse\n",
    "import numpy as np\n",
    "import networkx as nx\n",
    "from gensim.models import Word2Vec\n",
    "import random\n",
    "\n",
    "import matplotlib.pyplot as plt\n",
    "%matplotlib inline"
   ]
  },
  {
   "cell_type": "code",
   "execution_count": 2,
   "id": "fa1055c4",
   "metadata": {},
   "outputs": [],
   "source": [
    "def parse_args():\n",
    "    '''\n",
    "    Parses the node2vec arguments.\n",
    "    '''\n",
    "    # 使用parser加载信息\n",
    "    parser = argparse.ArgumentParser(description=\"Run node2vec.\")\n",
    "    # 输入文件：邻接表\n",
    "    parser.add_argument('--input', nargs='?', default='karate.edgelist',\n",
    "                        help='Input graph path')\n",
    "    # 输出文件：节点嵌入表\n",
    "    parser.add_argument('--output', nargs='?', default='karate.emb',\n",
    "                        help='Embeddings path')\n",
    "    # embedding嵌入向量维度\n",
    "    parser.add_argument('--dimensions', type=int, default=128,\n",
    "                        help='Number of dimensions. Default is 128.')\n",
    "    # 随机游走序列长度\n",
    "    parser.add_argument('--walk-length', type=int, default=80,\n",
    "                        help='Length of walk per source. Default is 80.')\n",
    "    # 每个节点生成随机游走序列次数\n",
    "    parser.add_argument('--num-walks', type=int, default=10,\n",
    "                        help='Number of walks per source. Default is 10.')\n",
    "    # word2vec窗口大小，word2vec参数\n",
    "    parser.add_argument('--window-size', type=int, default=10,\n",
    "                        help='Context size for optimization. Default is 10.')\n",
    "    # SGD优化时epoch数量，word2vec参数\n",
    "    parser.add_argument('--iter', default=1, type=int,\n",
    "                        help='Number of epochs in SGD')\n",
    "    # 并行化核数，word2vec参数\n",
    "    parser.add_argument('--workers', type=int, default=8,\n",
    "                        help='Number of parallel workers. Default is 8.')\n",
    "    # 参数p\n",
    "    parser.add_argument('--p', type=float, default=1,\n",
    "                        help='Return hyperparameter. Default is 1.')\n",
    "    # 参数q\n",
    "    parser.add_argument('--q', type=float, default=2,\n",
    "                        help='Inout hyperparameter. Default is 2.')\n",
    "    # 连接是否带权重\n",
    "    parser.add_argument('--weighted', dest='weighted', action='store_true',\n",
    "                        help='Boolean specifying (un)weighted. Default is unweighted.')\n",
    "    parser.add_argument('--unweighted', dest='unweighted', action='store_false')\n",
    "    parser.set_defaults(weighted=False)\n",
    "    \n",
    "    # 有向图还是无向图\n",
    "    parser.add_argument('--directed', dest='directed', action='store_true',\n",
    "                        help='Graph is (un)directed. Default is undirected.')\n",
    "    parser.add_argument('--undirected', dest='undirected', action='store_false')\n",
    "    parser.set_defaults(directed=False)\n",
    "    \n",
    "    return parser.parse_args(args=[])\n",
    "\n",
    "args = parse_args()"
   ]
  },
  {
   "cell_type": "code",
   "execution_count": 3,
   "id": "2c266ca2",
   "metadata": {},
   "outputs": [
    {
     "data": {
      "text/plain": [
       "Namespace(input='karate.edgelist', output='karate.emb', dimensions=128, walk_length=80, num_walks=10, window_size=10, iter=1, workers=8, p=1, q=2, weighted=False, unweighted=True, directed=False, undirected=True)"
      ]
     },
     "execution_count": 3,
     "metadata": {},
     "output_type": "execute_result"
    }
   ],
   "source": [
    "args"
   ]
  },
  {
   "cell_type": "markdown",
   "id": "8a34f4c5",
   "metadata": {},
   "source": [
    "## 载入图"
   ]
  },
  {
   "cell_type": "code",
   "execution_count": 5,
   "id": "446b4c83",
   "metadata": {},
   "outputs": [],
   "source": [
    "# 连接带权重\n",
    "if args.weighted:\n",
    "    G = nx.read_edgelist(args.input, nodetype=int, data=(('weight', float),), create_using=nx.DiGraph())\n",
    "# 连接不带权重\n",
    "else:\n",
    "    G = nx.read_edgelist(args.input, nodetype=int, create_using=nx.DiGraph())\n",
    "    for edge in G.edges():\n",
    "        G[edge[0]][edge[1]]['weight'] = np.abs(np.random.randn())\n",
    "        \n",
    "# 无向图\n",
    "if not args.directed:\n",
    "    G = G.to_undirected()"
   ]
  },
  {
   "cell_type": "code",
   "execution_count": 6,
   "id": "fea9878c",
   "metadata": {},
   "outputs": [
    {
     "data": {
      "text/plain": [
       "34"
      ]
     },
     "execution_count": 6,
     "metadata": {},
     "output_type": "execute_result"
    }
   ],
   "source": [
    "len(G)"
   ]
  },
  {
   "cell_type": "code",
   "execution_count": 7,
   "id": "8f7120d5",
   "metadata": {},
   "outputs": [
    {
     "data": {
      "text/plain": [
       "NodeView((1, 32, 22, 20, 18, 14, 13, 12, 11, 9, 8, 7, 6, 5, 4, 3, 2, 31, 10, 33, 29, 28, 17, 34, 15, 16, 19, 21, 23, 24, 30, 26, 25, 27))"
      ]
     },
     "execution_count": 7,
     "metadata": {},
     "output_type": "execute_result"
    }
   ],
   "source": [
    "G.nodes"
   ]
  },
  {
   "cell_type": "code",
   "execution_count": 8,
   "id": "d5d70d53",
   "metadata": {},
   "outputs": [
    {
     "data": {
      "text/plain": [
       "EdgeView([(1, 32), (1, 22), (1, 20), (1, 18), (1, 14), (1, 13), (1, 12), (1, 11), (1, 9), (1, 8), (1, 7), (1, 6), (1, 5), (1, 4), (1, 3), (1, 2), (32, 34), (32, 33), (32, 29), (32, 26), (32, 25), (22, 2), (20, 34), (20, 2), (18, 2), (14, 34), (14, 4), (14, 3), (14, 2), (13, 4), (11, 6), (11, 5), (9, 34), (9, 33), (9, 3), (8, 4), (8, 3), (8, 2), (7, 17), (7, 6), (7, 5), (6, 17), (4, 3), (4, 2), (3, 10), (3, 33), (3, 29), (3, 28), (3, 2), (2, 31), (31, 34), (31, 33), (10, 34), (33, 34), (33, 15), (33, 16), (33, 19), (33, 21), (33, 23), (33, 24), (33, 30), (29, 34), (28, 34), (28, 24), (28, 25), (34, 15), (34, 16), (34, 19), (34, 21), (34, 23), (34, 24), (34, 30), (34, 27), (24, 30), (24, 26), (30, 27), (26, 25)])"
      ]
     },
     "execution_count": 8,
     "metadata": {},
     "output_type": "execute_result"
    }
   ],
   "source": [
    "G.edges"
   ]
  },
  {
   "cell_type": "code",
   "execution_count": 9,
   "id": "782dcf8d",
   "metadata": {},
   "outputs": [
    {
     "data": {
      "image/png": "[encoded data removed]",
      "text/plain": [
       "<Figure size 432x288 with 1 Axes>"
      ]
     },
     "metadata": {},
     "output_type": "display_data"
    }
   ],
   "source": [
    "# 可视化\n",
    "pos = nx.spring_layout(G, seed=4)\n",
    "nx.draw(G, pos, with_labels=True)\n",
    "plt.show()"
   ]
  },
  {
   "cell_type": "markdown",
   "id": "83b9d2dc",
   "metadata": {},
   "source": [
    "## Alias Sampling"
   ]
  },
  {
   "cell_type": "code",
   "execution_count": 10,
   "id": "2e54244c",
   "metadata": {},
   "outputs": [],
   "source": [
    "def alias_setup(probs):\n",
    "    '''\n",
    "    Compute utility lists for non-uniform sampling from discrete distributions.\n",
    "    Refer to https://hips.seas.harvard.edu/blog/2013/03/03/the-alias-method-efficient-sampling-with-many-discrete-outcomes/\n",
    "    for details\n",
    "    '''\n",
    "    K = len(probs)\n",
    "    # q corrsespond to Prob\n",
    "    q = np.zeros(K)\n",
    "    # J Alias\n",
    "    J = np.zeros(K, dtype=np.int)\n",
    "\n",
    "    smaller = []\n",
    "    larger = []\n",
    "    \n",
    "    # 将各个概率分成两组，一组的概率值大于1，另一组的概率值小于1\n",
    "    for kk, prob in enumerate(probs):\n",
    "        q[kk] = K*prob # 每类事件的概率 乘 事件个数\n",
    "        \n",
    "        # 判定”劫富”和“济贫“的对象\n",
    "        if q[kk] < 1.0:\n",
    "            smaller.append(kk)\n",
    "        else:\n",
    "            larger.append(kk)\n",
    "    \n",
    "    # 使用贪心算法，将概率值小于1的不断填满\n",
    "    # pseudo code step 3\n",
    "    while len(smaller) > 0 and len(larger) > 0:\n",
    "        small = smaller.pop()\n",
    "        large = larger.pop()\n",
    "\n",
    "        J[small] = large\n",
    "        # 更新概率值，劫富济贫，削峰填谷\n",
    "        q[large] = q[large] - (1 - q[small])\n",
    "        if q[large] < 1.0:\n",
    "            smaller.append(large) # 把被打倒的土豪归为贫农\n",
    "        else:\n",
    "            larger.append(large)\n",
    "\n",
    "    return J, q"
   ]
  },
  {
   "cell_type": "code",
   "execution_count": 11,
   "id": "a2c774de",
   "metadata": {},
   "outputs": [],
   "source": [
    "def alias_draw(J, q):\n",
    "    '''\n",
    "    Draw sample from a non-uniform discrete distribution using alias sampling.\n",
    "    O(1)的采样\n",
    "    '''\n",
    "    K = len(J) # 事件个数\n",
    "\n",
    "    kk = int(np.floor(np.random.rand()*K)) # 生成1到K的随机整数\n",
    "    if np.random.rand() < q[kk]:\n",
    "        return kk # 取自己本来就对应的事件 \n",
    "    else:\n",
    "        return J[kk] # 取alias事件"
   ]
  },
  {
   "cell_type": "code",
   "execution_count": 12,
   "id": "46ce7a46",
   "metadata": {},
   "outputs": [],
   "source": [
    "def get_alias_edge(src, dst):\n",
    "    p = args.p\n",
    "    q = args.q\n",
    "\n",
    "    unnormalized_probs = []\n",
    "    \n",
    "    # 论文3.2.2节核心算法，计算各条边的转移权重\n",
    "    for dst_nbr in sorted(G.neighbors(dst)):\n",
    "        if dst_nbr == src:\n",
    "            unnormalized_probs.append(G[dst][dst_nbr]['weight']/p)\n",
    "        elif G.has_edge(dst_nbr, src):\n",
    "            unnormalized_probs.append(G[dst][dst_nbr]['weight'])\n",
    "        else:\n",
    "            unnormalized_probs.append(G[dst][dst_nbr]['weight']/q)\n",
    "\n",
    "    # 归一化各条边的转移权重\n",
    "    norm_const = sum(unnormalized_probs)\n",
    "    normalized_probs =  [float(u_prob)/norm_const for u_prob in unnormalized_probs]\n",
    "    \n",
    "    # 执行 Alias Sampling\n",
    "    return alias_setup(normalized_probs)"
   ]
  },
  {
   "cell_type": "code",
   "execution_count": 13,
   "id": "44aa4dfc",
   "metadata": {},
   "outputs": [
    {
     "data": {
      "text/plain": [
       "(array([1, 0]), array([0.98147475, 1.        ]))"
      ]
     },
     "execution_count": 13,
     "metadata": {},
     "output_type": "execute_result"
    }
   ],
   "source": [
    "get_alias_edge(15, 16)"
   ]
  },
  {
   "cell_type": "code",
   "execution_count": 14,
   "id": "095a3f37",
   "metadata": {},
   "outputs": [
    {
     "name": "stdout",
     "output_type": "stream",
     "text": [
      "25号节点\n",
      "[0.24380314830728603, 1.2314104293910384, 1.3626075882513735]\n",
      "2.837821165949698\n",
      "[0.08591209031513988, 0.43392812914584694, 0.4801597805390132]\n",
      "(array([2, 0, 1]), array([0.25773627, 1.        , 0.69821561]))\n"
     ]
    }
   ],
   "source": [
    "is_directed = args.directed\n",
    "alias_nodes = {}\n",
    "\n",
    "# 节点概率alias sampling和归一化\n",
    "for node in G.nodes():\n",
    "    unnormalized_probs = [G[node][nbr]['weight'] for nbr in sorted(G.neighbors(node))]\n",
    "    norm_const = sum(unnormalized_probs)\n",
    "    normalized_probs =  [float(u_prob)/norm_const for u_prob in unnormalized_probs]\n",
    "    alias_nodes[node] = alias_setup(normalized_probs)\n",
    "    # 信息展示\n",
    "    if node == 25:\n",
    "        print('25号节点')\n",
    "        print(unnormalized_probs)\n",
    "        print(norm_const)\n",
    "        print(normalized_probs)\n",
    "        print(alias_nodes[node])"
   ]
  },
  {
   "cell_type": "code",
   "execution_count": 15,
   "id": "d72b7097",
   "metadata": {},
   "outputs": [],
   "source": [
    "alias_edges = {}\n",
    "triads = {}\n",
    "\n",
    "# 边概率alias sampling和归一化\n",
    "if is_directed:\n",
    "    for edge in G.edges():\n",
    "        alias_edges[edge] = get_alias_edge(edge[0], edge[1])\n",
    "else:\n",
    "    for edge in G.edges():\n",
    "        alias_edges[edge] = get_alias_edge(edge[0], edge[1])\n",
    "        alias_edges[(edge[1], edge[0])] = get_alias_edge(edge[1], edge[0])"
   ]
  },
  {
   "cell_type": "code",
   "execution_count": 16,
   "id": "427c5952",
   "metadata": {},
   "outputs": [
    {
     "data": {
      "text/plain": [
       "{1: (array([ 3,  5,  9,  0, 12,  3, 14, 14,  5,  8,  9, 10, 11, 15, 12, 14]),\n",
       "  array([0.96703719, 0.75672402, 0.30918429, 1.        , 0.44019467,\n",
       "         0.86017461, 0.26586193, 0.79797317, 0.67630107, 0.66841396,\n",
       "         0.88935698, 0.83696257, 0.57380764, 0.71288652, 0.57957039,\n",
       "         0.97441744])),\n",
       " 32: (array([0, 0, 1, 1, 3, 4]),\n",
       "  array([1.        , 0.69694849, 0.5498063 , 0.93356151, 0.87021234,\n",
       "         0.56693501])),\n",
       " 22: (array([0, 0]), array([1.        , 0.19967934])),\n",
       " 20: (array([0, 2, 0]), array([1.        , 0.40898361, 0.8887044 ])),\n",
       " 18: (array([0, 0]), array([1.        , 0.08153578])),\n",
       " 14: (array([0, 0, 0, 0, 2]),\n",
       "  array([1.        , 0.01734865, 0.82152693, 0.38385324, 0.19098107])),\n",
       " 13: (array([0, 0]), array([1.        , 0.90712312])),\n",
       " 12: (array([0]), array([1.])),\n",
       " 11: (array([0, 0, 0]), array([1.        , 0.60894617, 0.89431862])),\n",
       " 9: (array([0, 0, 1, 1]),\n",
       "  array([1.        , 0.99871372, 0.80442991, 0.82256303])),\n",
       " 8: (array([3, 3, 0, 2]),\n",
       "  array([0.43670981, 0.69038123, 1.        , 0.83731171])),\n",
       " 7: (array([0, 0, 3, 0]),\n",
       "  array([1.        , 0.5021057 , 0.35933324, 0.64564713])),\n",
       " 6: (array([0, 2, 0, 2]),\n",
       "  array([1.        , 0.73780387, 0.82694661, 0.48430108])),\n",
       " 5: (array([0, 0, 0]), array([1.        , 0.58922756, 0.6245442 ])),\n",
       " 4: (array([1, 0, 3, 1, 3, 4]),\n",
       "  array([0.5133308 , 1.        , 0.43950468, 0.90824976, 0.74014206,\n",
       "         0.28985677])),\n",
       " 3: (array([4, 7, 7, 7, 0, 9, 9, 4, 9, 7]),\n",
       "  array([0.93488776, 0.33995944, 0.32704352, 0.87447714, 1.        ,\n",
       "         0.39328921, 0.91620635, 0.7145404 , 0.16652132, 0.46473215])),\n",
       " 2: (array([0, 0, 0, 2, 0, 2, 2, 2, 3]),\n",
       "  array([1.        , 0.79116982, 0.40574073, 0.23656915, 0.02268655,\n",
       "         0.18989869, 0.7543298 , 0.49151869, 0.02815238])),\n",
       " 31: (array([1, 0, 1]), array([0.0295578 , 1.        , 0.92574366])),\n",
       " 10: (array([1, 0]), array([0.36253174, 1.        ])),\n",
       " 33: (array([ 0,  0,  4,  4,  0,  7,  8,  4,  7, 10,  8, 10]),\n",
       "  array([1.        , 0.6952666 , 0.27472769, 0.95308826, 0.5589764 ,\n",
       "         0.62646991, 0.34232248, 0.76966102, 0.36669331, 0.73458299,\n",
       "         0.94512645, 0.84216481])),\n",
       " 29: (array([2, 0, 1]), array([0.19002988, 1.        , 0.54860306])),\n",
       " 28: (array([0, 0, 0, 2]),\n",
       "  array([1.        , 0.43945414, 0.16635089, 0.00672694])),\n",
       " 17: (array([1, 0]), array([0.30990951, 1.        ])),\n",
       " 34: (array([ 0,  0,  1,  1,  1,  4,  4,  6,  7,  7,  9,  9, 10, 12, 16, 16, 12]),\n",
       "  array([1.        , 0.9493541 , 0.13921493, 0.80625986, 0.6993932 ,\n",
       "         0.57661244, 0.66110912, 0.13976402, 0.05677039, 0.01237949,\n",
       "         0.67959651, 0.00987176, 0.31196694, 0.15178164, 0.49150321,\n",
       "         0.87968413, 0.61576248])),\n",
       " 15: (array([1, 0]), array([0.66982382, 1.        ])),\n",
       " 16: (array([1, 0]), array([0.98147475, 1.        ])),\n",
       " 19: (array([0, 0]), array([1.        , 0.39983655])),\n",
       " 21: (array([1, 0]), array([0.61794557, 1.        ])),\n",
       " 23: (array([0, 0]), array([1.        , 0.20179135])),\n",
       " 24: (array([0, 3, 3, 0, 3]),\n",
       "  array([1.        , 0.35865201, 0.92796427, 0.48240017, 0.73572145])),\n",
       " 30: (array([0, 0, 0, 2]),\n",
       "  array([1.        , 0.49518367, 0.79249905, 0.15575965])),\n",
       " 26: (array([0, 0, 0]), array([1.        , 0.25792507, 0.6530796 ])),\n",
       " 25: (array([2, 0, 1]), array([0.25773627, 1.        , 0.69821561])),\n",
       " 27: (array([1, 0]), array([0.52161464, 1.        ]))}"
      ]
     },
     "execution_count": 16,
     "metadata": {},
     "output_type": "execute_result"
    }
   ],
   "source": [
    "# 每个节点的 J表 和 q表 （不考虑p、q值）\n",
    "alias_nodes"
   ]
  },
  {
   "cell_type": "code",
   "execution_count": 17,
   "id": "80614062",
   "metadata": {},
   "outputs": [
    {
     "data": {
      "text/plain": [
       "{(1, 32): (array([0, 0, 0, 0, 0, 4]),\n",
       "  array([1.        , 0.99704679, 0.45170677, 0.87362043, 0.53651854,\n",
       "         0.46577928])),\n",
       " (32,\n",
       "  1): (array([ 5,  5, 12,  0, 14,  3, 15, 15, 15,  5, 15,  9, 11, 15, 12, 14]), array([0.89636285, 0.70142008, 0.28658806, 1.        , 0.40802376,\n",
       "         0.91292312, 0.24643184, 0.7396546 , 0.93422732, 0.99229157,\n",
       "         0.97548188, 0.62984214, 0.45900284, 0.66078636, 0.73194687,\n",
       "         0.89524998])),\n",
       " (1, 22): (array([0, 0]), array([1.        , 0.19967934])),\n",
       " (22,\n",
       "  1): (array([ 0,  0,  9,  0, 14,  3, 14, 14, 14,  5, 14,  9, 11, 15, 12, 14]), array([1.        , 0.65416858, 0.26728192, 0.67387353, 0.38053704,\n",
       "         0.6600281 , 0.22983085, 0.68982741, 0.87129265, 0.42629381,\n",
       "         0.90976808, 0.88834451, 0.79637935, 0.61627218, 0.45294924,\n",
       "         0.70683343])),\n",
       " (1, 20): (array([0, 0, 0]), array([1.        , 0.54286507, 0.9820549 ])),\n",
       " (20,\n",
       "  1): (array([ 0,  0,  5,  0, 12,  3, 14, 15, 15,  5, 15,  9, 11, 12, 13, 14]), array([1.        , 0.68482108, 0.27980599, 0.56487781, 0.39836793,\n",
       "         0.50352644, 0.24060007, 0.72215078, 0.91211896, 0.93217685,\n",
       "         0.95239724, 0.60196958, 0.45883802, 0.65409063, 0.36379273,\n",
       "         0.72832886])),\n",
       " (1, 18): (array([0, 0]), array([1.        , 0.08153578])),\n",
       " (18,\n",
       "  1): (array([ 0,  0,  9,  0, 12,  3, 12, 12, 12,  5, 14,  9, 11, 15, 12, 14]), array([1.        , 0.65371914, 0.26709828, 0.67547168, 0.3802756 ,\n",
       "         0.6623228 , 0.22967294, 0.68935347, 0.87069404, 0.42943613,\n",
       "         0.90914303, 0.89254347, 0.80132854, 0.61584877, 0.94631825,\n",
       "         0.70566076])),\n",
       " (1, 14): (array([0, 0, 0, 0, 2]),\n",
       "  array([1.        , 0.01768643, 0.75964223, 0.39132684, 0.09734973])),\n",
       " (14,\n",
       "  1): (array([ 0,  0,  0,  0,  9,  1, 11, 11, 12,  5, 12,  9, 11, 15, 12, 14]), array([1.        , 0.91110135, 0.51274076, 0.97245613, 0.36500197,\n",
       "         0.65617583, 0.22044821, 0.66166585, 0.83572294, 0.4728076 ,\n",
       "         0.87262764, 0.88901206, 0.91212461, 0.59111344, 0.91518822,\n",
       "         0.63715354])),\n",
       " (1, 13): (array([0, 0]), array([1.        , 0.90712312])),\n",
       " (13,\n",
       "  1): (array([ 5,  9, 10,  0, 10,  3, 12, 14, 14,  5,  9, 10, 11, 15, 12, 14]), array([0.89119747, 0.69737808, 0.56987313, 1.        , 0.40567248,\n",
       "         0.9191875 , 0.24501176, 0.73539227, 0.92884374, 0.71276446,\n",
       "         0.66078819, 0.74552145, 0.58142922, 0.65697852, 0.90425038,\n",
       "         0.81957411])),\n",
       " (1, 12): (array([0]), array([1.])),\n",
       " (12,\n",
       "  1): (array([ 5,  9,  9,  0,  9,  3, 12, 14, 14,  5, 14,  9, 11, 15, 12, 14]), array([0.88567303, 0.6930551 , 0.28317027, 1.        , 0.40315776,\n",
       "         0.92588735, 0.24349295, 0.73083364, 0.92308593, 0.7331417 ,\n",
       "         0.9638485 , 0.66135623, 0.5044801 , 0.65290597, 0.83769793,\n",
       "         0.80829475])),\n",
       " (1, 11): (array([0, 0, 0]), array([1.        , 0.60894617, 0.89431862])),\n",
       " (11,\n",
       "  1): (array([ 3,  3,  8,  0,  8,  3, 11, 12,  5,  8, 14,  9, 11, 15, 12, 14]), array([0.83092761, 0.65021583, 0.26566689, 1.        , 0.75647536,\n",
       "         0.50341783, 0.22844211, 0.68565919, 0.27713827, 0.52294013,\n",
       "         0.90427089, 0.25995065, 0.94614148, 0.61254841, 0.92516973,\n",
       "         0.69652004])),\n",
       " (1, 9): (array([0, 0, 1, 1]),\n",
       "  array([1.        , 0.74309095, 0.50489818, 0.51627937])),\n",
       " (9,\n",
       "  1): (array([ 1,  0,  7,  1,  9,  3, 14,  5, 14,  7, 14,  9, 11, 15, 12, 14]), array([0.88139345, 1.        , 0.28180199, 0.73919405, 0.40120969,\n",
       "         0.67027153, 0.24231639, 0.3695147 , 0.91862557, 0.63310821,\n",
       "         0.95919117, 0.89220221, 0.74091611, 0.64975113, 0.32450425,\n",
       "         0.79955705])),\n",
       " (1, 8): (array([3, 3, 0, 2]),\n",
       "  array([0.43670981, 0.69038123, 1.        , 0.83731171])),\n",
       " (8,\n",
       "  1): (array([ 0,  0,  0,  1,  5,  3, 11, 12, 12,  5, 14,  9, 11, 15, 12, 14]), array([1.        , 0.76821044, 0.54068536, 0.44489093, 0.38489474,\n",
       "         0.41943552, 0.46492548, 0.69772693, 0.8812702 , 0.78667846,\n",
       "         0.92018623, 0.50146012, 0.93206491, 0.62332938, 0.99425347,\n",
       "         0.72637912])),\n",
       " (1, 7): (array([0, 0, 0, 0]),\n",
       "  array([1.        , 0.59830703, 0.42817997, 0.7663831 ])),\n",
       " (7,\n",
       "  1): (array([ 3,  3,  5,  0,  5,  3,  5, 11, 12,  5, 12,  9, 11, 15, 12, 14]), array([0.81263065, 0.63589812, 0.25981692, 1.        , 0.73981783,\n",
       "         0.58041233, 0.22341183, 0.67056103, 0.84695807, 0.95881181,\n",
       "         0.8843589 , 0.72363326, 0.99160489, 0.59906013, 0.95437886,\n",
       "         0.65916278])),\n",
       " (1, 6): (array([0, 0, 0, 2]),\n",
       "  array([1.        , 0.78534691, 0.96600979, 0.25775438])),\n",
       " (6,\n",
       "  1): (array([ 5,  5,  5,  5,  8,  0,  9, 12,  5,  8, 12,  9, 11, 15, 12, 14]), array([0.81973009, 0.64145356, 0.26208678, 0.9941394 , 0.74628115,\n",
       "         1.        , 0.22536364, 0.6764193 , 0.86308155, 0.40808558,\n",
       "         0.89208499, 0.93675241, 0.86601168, 0.60429375, 0.98018942,\n",
       "         0.67365785])),\n",
       " (1, 5): (array([0, 0, 0]), array([1.        , 0.58922756, 0.6245442 ])),\n",
       " (5,\n",
       "  1): (array([ 3,  3,  5,  0,  5,  3,  8, 11,  5,  8, 12,  9, 11, 15, 12, 14]), array([0.78910309, 0.61748738, 0.25229462, 1.        , 0.35919918,\n",
       "         0.6794174 , 0.21694354, 0.65114671, 0.73881341, 0.87699658,\n",
       "         0.85875464, 0.67757935, 0.99569725, 0.58171594, 0.86884267,\n",
       "         0.61112614])),\n",
       " (1, 4): (array([1, 0, 3, 1, 3, 4]),\n",
       "  array([0.5133308 , 1.        , 0.43950468, 0.90824976, 0.74014206,\n",
       "         0.28985677])),\n",
       " (4,\n",
       "  1): (array([ 0,  0,  1,  1, 10,  1, 11, 11, 11,  5,  9, 10, 11, 14, 12, 14]), array([1.        , 0.4988525 , 0.47995178, 0.91026906, 0.34166066,\n",
       "         0.93395669, 0.41270178, 0.61935334, 0.78227974, 0.82626303,\n",
       "         0.68540944, 0.71009989, 0.93494917, 0.55331264, 0.72876642,\n",
       "         0.97914745])),\n",
       " (1, 3): (array([0, 4, 4, 0, 3, 7, 4, 6, 9, 7]),\n",
       "  array([1.        , 0.46117625, 0.44365499, 0.73176627, 0.54548332,\n",
       "         0.26676071, 0.80851688, 0.56562564, 0.11294829, 0.46185664])),\n",
       " (3,\n",
       "  1): (array([ 0,  0,  0,  1, 11,  1, 11,  5, 11,  7, 11,  9, 11, 14, 12, 14]), array([1.        , 0.99414456, 0.48594934, 0.92164394, 0.34593011,\n",
       "         0.88314672, 0.41785897, 0.76161113, 0.79205524, 0.50742536,\n",
       "         0.82703163, 0.35231546, 0.98412097, 0.56022693, 0.76286555,\n",
       "         0.99138304])),\n",
       " (1, 2): (array([0, 0, 0, 2, 0, 2, 2, 2, 3]),\n",
       "  array([1.        , 0.79240916, 0.40011043, 0.22440796, 0.02272209,\n",
       "         0.19019616, 0.75551144, 0.49228864, 0.01409824])),\n",
       " (2,\n",
       "  1): (array([ 0,  0, 11, 11, 12, 12, 12, 14, 14,  1, 14,  9, 11, 14, 12, 14]), array([1.        , 0.67587022, 0.4233551 , 0.80292867, 0.30137148,\n",
       "         0.97707265, 0.36403533, 0.5463182 , 0.69003206, 0.63971481,\n",
       "         0.7205032 , 0.6333925 , 0.67751542, 0.97613026, 0.90714047,\n",
       "         0.86368481])),\n",
       " (32,\n",
       "  34): (array([ 1,  0,  4,  7,  1,  7,  4,  6, 12,  7,  9, 15, 10, 16, 16, 12, 15]), array([0.86415671, 1.        , 0.11450434, 0.66314909, 0.24040247,\n",
       "         0.47426398, 0.92367257, 0.67236556, 0.04669367, 0.83187146,\n",
       "         0.74377641, 0.00811953, 0.6189005 , 0.12484047, 0.4042616 ,\n",
       "         0.03162994, 0.57642926])),\n",
       " (34, 32): (array([3, 3, 4, 0, 3, 4]),\n",
       "  array([0.8751615 , 0.81507068, 0.36926346, 1.        , 0.88142482,\n",
       "         0.76153504])),\n",
       " (32, 33): (array([ 0,  0,  7, 10,  0, 10, 10,  4, 11, 11,  7, 10]),\n",
       "  array([1.        , 0.58711331, 0.23199199, 0.80482911, 0.93869367,\n",
       "         0.5290184 , 0.28907197, 0.62009574, 0.91136082, 0.62031377,\n",
       "         0.88795187, 0.95399567])),\n",
       " (33, 32): (array([4, 4, 4, 4, 0, 4]),\n",
       "  array([0.9934051 , 0.92519538, 0.41915487, 0.81066364, 1.        ,\n",
       "         0.8644265 ])),\n",
       " (32, 29): (array([2, 0, 1]), array([0.09812264, 1.        , 0.50113142])),\n",
       " (29, 32): (array([0, 3, 3, 0, 3, 4]),\n",
       "  array([1.        , 0.9542874 , 0.43233485, 0.97535808, 0.91642719,\n",
       "         0.89160769])),\n",
       " (32, 26): (array([0, 2, 0]), array([1.        , 0.39569128, 0.39760202])),\n",
       " (26, 32): (array([0, 0, 1, 1, 1, 4]),\n",
       "  array([1.        , 0.9929255 , 0.849845  , 0.8218185 , 0.4454096 ,\n",
       "         0.43816057])),\n",
       " (32, 25): (array([2, 2, 0]), array([0.32914999, 0.83124179, 1.        ])),\n",
       " (25, 32): (array([0, 0, 1, 1, 1, 4]),\n",
       "  array([1.        , 0.9929255 , 0.849845  , 0.8218185 , 0.4454096 ,\n",
       "         0.43816057])),\n",
       " (22, 2): (array([0, 0, 0, 0, 0, 0, 0, 2, 2]),\n",
       "  array([1.        , 0.58022929, 0.74623066, 0.88623048, 0.0166379 ,\n",
       "         0.13926818, 0.55321151, 0.72094141, 0.02064643])),\n",
       " (2, 22): (array([0, 0]), array([1.        , 0.19967934])),\n",
       " (20,\n",
       "  34): (array([ 1,  0,  1,  4,  1,  6,  4,  6,  6,  7,  9,  7, 10, 10, 12, 16, 12]), array([0.96434574, 1.        , 0.12777981, 0.7400336 , 0.79267906,\n",
       "         0.52924944, 0.71103568, 0.33691564, 0.05210727, 0.42732105,\n",
       "         0.2130739 , 0.0090609 , 0.81846727, 0.13931428, 0.45113109,\n",
       "         0.80742679, 0.9497724 ])),\n",
       " (34, 20): (array([2, 2, 0]), array([0.74421755, 0.27389003, 1.        ])),\n",
       " (20, 2): (array([0, 0, 0, 0, 0, 0, 2, 2, 6]),\n",
       "  array([1.        , 0.56806384, 0.41896366, 0.86764921, 0.01628906,\n",
       "         0.1363482 , 0.1034386 , 0.35291285, 0.02021355])),\n",
       " (2, 20): (array([0, 0, 0]), array([1.        , 0.54286507, 0.9820549 ])),\n",
       " (18, 2): (array([0, 0, 0, 0, 0, 0, 0, 2, 2]),\n",
       "  array([1.        , 0.59484954, 0.44587481, 0.90856114, 0.01705713,\n",
       "         0.28555475, 0.56715098, 0.36955361, 0.02116667])),\n",
       " (2, 18): (array([0, 0]), array([1.        , 0.08153578])),\n",
       " (14,\n",
       "  34): (array([ 0,  0,  1,  1,  1,  4,  4,  6,  7,  7,  9,  7, 10, 12, 16, 16, 12]), array([1.        , 0.95788807, 0.27616829, 0.79971094, 0.59624115,\n",
       "         0.57192885, 0.57451323, 0.0655254 , 0.05630927, 0.94562917,\n",
       "         0.63346344, 0.00979158, 0.27694257, 0.15054878, 0.48751093,\n",
       "         0.87253881, 0.59451569])),\n",
       " (34, 14): (array([0, 0, 0, 0, 2]),\n",
       "  array([1.        , 0.01671038, 0.93846594, 0.36973092, 0.3679094 ])),\n",
       " (14, 4): (array([1, 0, 1, 1, 1, 3]),\n",
       "  array([0.69832124, 1.        , 0.59789019, 0.57008549, 0.98646429,\n",
       "         0.39431326])),\n",
       " (4, 14): (array([0, 0, 0, 0, 2]),\n",
       "  array([1.        , 0.01768643, 0.75964223, 0.39132684, 0.09734973])),\n",
       " (14, 3): (array([0, 0, 6, 7, 0, 7, 4, 6, 9, 7]),\n",
       "  array([1.        , 0.54314875, 0.52251315, 0.69857034, 0.96319331,\n",
       "         0.31417651, 0.88429782, 0.89797376, 0.13302447, 0.72169667])),\n",
       " (3, 14): (array([0, 0, 0, 0, 2]),\n",
       "  array([1.        , 0.01768643, 0.75964223, 0.39132684, 0.09734973])),\n",
       " (14, 2): (array([0, 0, 0, 0, 0, 0, 2, 2, 2]),\n",
       "  array([1.        , 0.9291069 , 0.95804404, 0.70954954, 0.02664186,\n",
       "         0.11150336, 0.442922  , 0.28860644, 0.01653031])),\n",
       " (2, 14): (array([0, 0, 0, 0, 2]),\n",
       "  array([1.        , 0.01768643, 0.75964223, 0.39132684, 0.09734973])),\n",
       " (13, 4): (array([3, 0, 4, 1, 3, 4]),\n",
       "  array([0.77351414, 1.        , 0.3311345 , 0.81077685, 0.73488725,\n",
       "         0.2183858 ])),\n",
       " (4, 13): (array([0, 0]), array([1.        , 0.90712312])),\n",
       " (11, 6): (array([0, 2, 0, 2]),\n",
       "  array([1.        , 0.4354177 , 0.61543635, 0.28581209])),\n",
       " (6, 11): (array([0, 0, 0]), array([1.        , 0.33886482, 0.99533633])),\n",
       " (11, 5): (array([0, 0, 0]), array([1.        , 0.32669692, 0.69255642])),\n",
       " (5, 11): (array([0, 0, 0]), array([1.        , 0.71561007, 0.52548439])),\n",
       " (9,\n",
       "  34): (array([ 0,  0,  1,  1,  1,  1,  4,  6,  7,  7,  9, 10, 10, 16, 16, 16, 12]), array([1.        , 0.14866279, 0.12265492, 0.71035297, 0.77727116,\n",
       "         0.50802276, 0.48946949, 0.14909269, 0.0500174 , 0.27476655,\n",
       "         0.10921936, 0.00869749, 0.89557571, 0.13372679, 0.43303751,\n",
       "         0.77504321, 0.53486634])),\n",
       " (34, 9): (array([3, 3, 0, 2]),\n",
       "  array([0.71177362, 0.97510041, 1.        , 0.8563271 ])),\n",
       " (9, 33): (array([ 0,  0,  0,  0,  1,  0,  7,  4,  7, 11,  7, 10]),\n",
       "  array([1.        , 0.80260372, 0.21570972, 0.74834248, 0.71078976,\n",
       "         0.49188944, 0.26878356, 0.48473714, 0.8473973 , 0.57677728,\n",
       "         0.973692  , 0.89927328])),\n",
       " (33, 9): (array([1, 0, 1, 1]),\n",
       "  array([0.57226874, 1.        , 0.91951744, 0.9402448 ])),\n",
       " (9, 3): (array([0, 4, 7, 7, 0, 9, 9, 4, 9, 7]),\n",
       "  array([1.        , 0.23816399, 0.22911553, 0.61262885, 0.69009906,\n",
       "         0.275525  , 0.64186292, 0.55960594, 0.11665916, 0.82049924])),\n",
       " (3, 9): (array([0, 0, 0, 1]),\n",
       "  array([1.        , 0.9873415 , 0.8966208 , 0.45841602])),\n",
       " (8, 4): (array([1, 0, 3, 1, 3, 3]),\n",
       "  array([0.60039522, 1.        , 0.51404768, 0.55347462, 0.84813179,\n",
       "         0.16950923])),\n",
       " (4, 8): (array([3, 3, 0, 2]),\n",
       "  array([0.43670981, 0.69038123, 1.        , 0.83731171])),\n",
       " (8, 3): (array([0, 0, 4, 0, 3, 7, 7, 4, 9, 7]),\n",
       "  array([1.        , 0.5449654 , 0.52426078, 0.95638088, 0.55456723,\n",
       "         0.31522732, 0.73435343, 0.94780243, 0.13346939, 0.72745516])),\n",
       " (3, 8): (array([3, 3, 0, 2]),\n",
       "  array([0.43670981, 0.69038123, 1.        , 0.83731171])),\n",
       " (8, 2): (array([0, 0, 0, 2, 0, 0, 2, 2, 3]),\n",
       "  array([1.        , 0.86239325, 0.9910424 , 0.33254537, 0.01236443,\n",
       "         0.10349697, 0.4111184 , 0.26788332, 0.01534337])),\n",
       " (2, 8): (array([3, 3, 0, 2]),\n",
       "  array([0.43670981, 0.69038123, 1.        , 0.83731171])),\n",
       " (7, 17): (array([1, 0]), array([0.30990951, 1.        ])),\n",
       " (17, 7): (array([0, 3, 3, 0]),\n",
       "  array([1.        , 0.35574713, 0.50918271, 0.68766352])),\n",
       " (7, 6): (array([0, 0, 0, 2]),\n",
       "  array([1.        , 0.92295306, 0.60962008, 0.60583467])),\n",
       " (6, 7): (array([0, 0, 3, 0]),\n",
       "  array([1.        , 0.26786491, 0.38339643, 0.75584991])),\n",
       " (7, 5): (array([0, 0, 0]), array([1.        , 0.65768662, 0.34855325])),\n",
       " (5, 7): (array([0, 0, 0, 0]),\n",
       "  array([1.        , 0.63214078, 0.22619659, 0.80972141])),\n",
       " (6, 17): (array([1, 0]), array([0.30990951, 1.        ])),\n",
       " (17, 6): (array([1, 0, 1, 2]),\n",
       "  array([0.89852916, 1.        , 0.97119273, 0.7419247 ])),\n",
       " (4, 3): (array([0, 3, 6, 0, 3, 7, 4, 6, 9, 7]),\n",
       "  array([1.        , 0.50768349, 0.4883953 , 0.60387146, 0.79027452,\n",
       "         0.29366214, 0.78182624, 0.92520055, 0.12433855, 0.60927732])),\n",
       " (3, 4): (array([1, 0, 3, 1, 3, 3]),\n",
       "  array([0.58389917, 1.        , 0.49992405, 0.62069369, 0.8248291 ,\n",
       "         0.32970382])),\n",
       " (4, 2): (array([0, 0, 0, 2, 0, 0, 2, 2, 3]),\n",
       "  array([1.        , 0.8612101 , 0.98419498, 0.3307172 , 0.02469494,\n",
       "         0.10335497, 0.41055437, 0.2675158 , 0.01532232])),\n",
       " (2, 4): (array([1, 0, 3, 1, 3, 3]),\n",
       "  array([0.58389917, 1.        , 0.49992405, 0.62069369, 0.8248291 ,\n",
       "         0.32970382])),\n",
       " (3, 10): (array([1, 0]), array([0.61380211, 1.        ])),\n",
       " (10, 3): (array([4, 7, 7, 7, 0, 7, 9, 4, 9, 7]),\n",
       "  array([0.89951096, 0.32709514, 0.31466796, 0.84138632, 1.        ,\n",
       "         0.75681374, 0.88153647, 0.80102376, 0.16022004, 0.95521743])),\n",
       " (3, 33): (array([ 0,  0,  0,  0,  1,  0,  4,  4,  4,  7,  7, 10]),\n",
       "  array([1.        , 0.55782194, 0.22828937, 0.79198396, 0.40233609,\n",
       "         0.52057521, 0.28445835, 0.92350934, 0.89681541, 0.61041351,\n",
       "         0.83688652, 0.69981035])),\n",
       " (33, 3): (array([4, 7, 7, 9, 0, 9, 9, 4, 9, 7]),\n",
       "  array([0.70085286, 0.25485578, 0.24517316, 0.65556512, 1.        ,\n",
       "         0.29483525, 0.68684806, 0.27419358, 0.12483525, 0.74382514])),\n",
       " (3, 29): (array([2, 0, 1]), array([0.35741962, 1.        , 0.63506268])),\n",
       " (29, 3): (array([4, 7, 7, 7, 0, 9, 9, 4, 9, 7]),\n",
       "  array([0.91957487, 0.33439111, 0.32168674, 0.86015374, 1.        ,\n",
       "         0.38684737, 0.90119946, 0.75197481, 0.32758761, 0.57177579])),\n",
       " (3, 28): (array([0, 0, 0, 0]),\n",
       "  array([1.        , 0.27490819, 0.72542295, 0.00420816])),\n",
       " (28, 3): (array([7, 7, 7, 7, 0, 7, 7, 4, 9, 7]),\n",
       "  array([0.73564968, 0.26750918, 0.25734582, 0.68811344, 1.        ,\n",
       "         0.3094736 , 0.72094955, 0.93725451, 0.13103322, 0.69592457])),\n",
       " (3, 2): (array([0, 0, 0, 2, 0, 0, 2, 2, 3]),\n",
       "  array([1.        , 0.8612101 , 0.98419498, 0.3307172 , 0.02469494,\n",
       "         0.10335497, 0.41055437, 0.2675158 , 0.01532232])),\n",
       " (2, 3): (array([0, 3, 6, 0, 3, 7, 4, 6, 9, 7]),\n",
       "  array([1.        , 0.50768349, 0.4883953 , 0.60387146, 0.79027452,\n",
       "         0.29366214, 0.78182624, 0.92520055, 0.12433855, 0.60927732])),\n",
       " (2, 31): (array([1, 0, 1]), array([0.05853884, 1.        , 0.91671167])),\n",
       " (31, 2): (array([0, 0, 0, 2, 0, 2, 2, 2, 3]),\n",
       "  array([1.        , 0.78870272, 0.41694866, 0.26077776, 0.02261581,\n",
       "         0.18930653, 0.75197759, 0.48998599, 0.05612918])),\n",
       " (31,\n",
       "  34): (array([ 1,  0,  1,  4,  1,  6,  4,  6,  7,  7,  9, 16, 10, 16, 16, 16, 12]), array([0.95329343, 1.        , 0.12631533, 0.73155211, 0.829438  ,\n",
       "         0.52318374, 0.77165224, 0.86809069, 0.05151007, 0.93782885,\n",
       "         0.73749812, 0.00895705, 0.49659262, 0.13771761, 0.89192139,\n",
       "         0.79817291, 0.09527547])),\n",
       " (34, 31): (array([1, 0, 1]), array([0.01485206, 1.        , 0.93032673])),\n",
       " (31, 33): (array([ 0,  0,  7,  7,  0,  9, 11,  4, 11,  7,  9, 10]),\n",
       "  array([1.        , 0.61452119, 0.24282194, 0.8424005 , 0.84246687,\n",
       "         0.55371426, 0.30256655, 0.46231357, 0.95390537, 0.80690851,\n",
       "         0.95465118, 0.74519041])),\n",
       " (33, 31): (array([1, 0, 1]), array([0.01485206, 1.        , 0.93032673])),\n",
       " (10,\n",
       "  34): (array([ 1,  0,  1,  1,  1,  1,  4,  6,  1,  7,  9,  6, 10,  9, 12, 16, 12]), array([0.92522434, 1.        , 0.12259606, 0.71001204, 0.6256222 ,\n",
       "         0.50777894, 0.33843861, 0.9900118 , 0.04999339, 0.16657862,\n",
       "         0.86792822, 0.00869331, 0.66356036, 0.13366261, 0.43282968,\n",
       "         0.77467124, 0.87067438])),\n",
       " (34, 10): (array([1, 0]), array([0.19933191, 1.        ])),\n",
       " (33,\n",
       "  34): (array([ 0,  0,  4,  1,  3,  4,  4,  4,  7,  7,  7,  9,  9, 16, 16,  9, 15]), array([1.        , 0.68247994, 0.08728843, 0.23755607, 0.22649845,\n",
       "         0.72307755, 0.95389069, 0.62929149, 0.07119062, 0.1040205 ,\n",
       "         0.85751032, 0.00618964, 0.96836053, 0.19033564, 0.61634975,\n",
       "         0.47052694, 0.36739459])),\n",
       " (34, 33): (array([ 4,  4,  7,  0,  3,  7, 10,  4,  7, 10,  8, 10]),\n",
       "  array([0.94135235, 0.7498075 , 0.29627898, 1.        , 0.97214575,\n",
       "         0.67561399, 0.36917632, 0.59699303, 0.70924307, 0.7922081 ,\n",
       "         0.54533625, 0.9082293 ])),\n",
       " (33, 15): (array([1, 0]), array([0.66982382, 1.        ])),\n",
       " (15, 33): (array([ 0,  0,  4,  4,  0,  7, 11,  4, 11, 11,  7, 10]),\n",
       "  array([1.        , 0.63606523, 0.5026697 , 0.87193359, 0.76682753,\n",
       "         0.57312652, 0.31317401, 0.96368519, 0.98734762, 0.67203386,\n",
       "         0.76532818, 0.51346583])),\n",
       " (33, 16): (array([1, 0]), array([0.98147475, 1.        ])),\n",
       " (16, 33): (array([ 0,  0,  3,  0,  3,  7, 11,  4, 11, 11,  7, 10]),\n",
       "  array([1.        , 0.60478769, 0.23897584, 0.87664039, 0.97954939,\n",
       "         0.54494389, 0.29777415, 0.62125657, 0.9387963 , 0.63898761,\n",
       "         0.53100042, 0.3406965 ])),\n",
       " (33, 19): (array([0, 0]), array([1.        , 0.39983655])),\n",
       " (19, 33): (array([ 0,  0,  4,  4,  0,  4, 10,  4, 11, 11,  7, 10]),\n",
       "  array([1.        , 0.57924144, 0.2288815 , 0.79403816, 0.96633116,\n",
       "         0.52192545, 0.28519616, 0.81964906, 0.89914152, 0.61199676,\n",
       "         0.33961084, 0.91438922])),\n",
       " (33, 21): (array([1, 0]), array([0.61794557, 1.        ])),\n",
       " (21, 33): (array([ 0,  0,  7,  7,  0,  4, 11,  5, 11, 11,  7, 10]),\n",
       "  array([1.        , 0.61945397, 0.24477108, 0.84916247, 0.8251483 ,\n",
       "         0.43391647, 0.30499526, 0.31759859, 0.96156239, 0.65448325,\n",
       "         0.64087851, 0.42170937])),\n",
       " (33, 23): (array([0, 0]), array([1.        , 0.20179135])),\n",
       " (23, 33): (array([ 0,  0,  7,  7,  0, 10, 11,  4, 11, 11,  7, 10]),\n",
       "  array([1.        , 0.63280422, 0.2500463 , 0.86746332, 0.77827666,\n",
       "         0.57018819, 0.62313682, 0.3570615 , 0.98228564, 0.66858844,\n",
       "         0.6226537 , 0.80702126])),\n",
       " (33, 24): (array([2, 3, 0, 2, 3]),\n",
       "  array([0.9340515 , 0.22074294, 1.        , 0.92366263, 0.90564286])),\n",
       " (24, 33): (array([ 0,  4,  7,  7,  0,  7,  8,  4,  7, 11,  8, 10]),\n",
       "  array([1.        , 0.53148482, 0.21001094, 0.72857223, 0.66548553,\n",
       "         0.47889435, 0.26168264, 0.94033883, 0.80683381, 0.56153956,\n",
       "         0.89513087, 0.84909691])),\n",
       " (33, 30): (array([0, 0, 0, 2]),\n",
       "  array([1.        , 0.26392847, 0.91077193, 0.166037  ])),\n",
       " (30, 33): (array([ 0,  4,  7,  7,  0,  7,  8,  4,  7, 11,  8, 10]),\n",
       "  array([1.        , 0.53148482, 0.21001094, 0.72857223, 0.66548553,\n",
       "         0.47889435, 0.26168264, 0.94033883, 0.80683381, 0.56153956,\n",
       "         0.89513087, 0.84909691])),\n",
       " (29,\n",
       "  34): (array([ 1,  0,  1,  4,  1,  7,  4,  6, 10,  7,  9, 12, 10, 15, 16, 12, 15]), array([0.91952646, 1.        , 0.12184107, 0.70563953, 0.94174367,\n",
       "         0.50465185, 0.95684751, 0.62536458, 0.04968551, 0.30850893,\n",
       "         0.15069556, 0.00863978, 0.90405913, 0.13283946, 0.43016416,\n",
       "         0.19205822, 0.5194177 ])),\n",
       " (34, 29): (array([2, 0, 1]), array([0.09812264, 1.        , 0.50113142])),\n",
       " (28,\n",
       "  34): (array([ 1,  0,  1,  4,  1,  6,  4,  6,  7,  7,  9,  9, 10, 10, 12, 16, 12]), array([0.97426454, 1.        , 0.12909409, 0.74764522, 0.75969011,\n",
       "         0.53469304, 0.65663596, 0.71119874, 0.05264322, 0.73847386,\n",
       "         0.26669305, 0.01830818, 0.85774217, 0.1407472 , 0.4557712 ,\n",
       "         0.81573159, 0.96982682])),\n",
       " (34, 28): (array([0, 0, 0, 2]),\n",
       "  array([1.        , 0.79070849, 0.05535767, 0.01210377])),\n",
       " (28, 24): (array([0, 3, 4, 0, 3]),\n",
       "  array([1.        , 0.58849694, 0.76132869, 0.75491727, 0.96854295])),\n",
       " (24, 28): (array([0, 0, 0, 2]),\n",
       "  array([1.        , 0.79070849, 0.05535767, 0.01210377])),\n",
       " (28, 25): (array([2, 0, 1]), array([0.17974142, 1.        , 0.18431013])),\n",
       " (25, 28): (array([0, 0, 0, 2]),\n",
       "  array([1.        , 0.34068696, 0.80321268, 0.00521506])),\n",
       " (34, 15): (array([1, 0]), array([0.66982382, 1.        ])),\n",
       " (15,\n",
       "  34): (array([ 1,  0,  1,  1,  3,  3,  4,  6,  7,  7,  9, 10, 10, 16, 16, 16, 12]), array([0.93754317, 1.        , 0.12422835, 0.88182182, 0.92835118,\n",
       "         0.51453973, 0.62402947, 0.26645818, 0.05065902, 0.36808799,\n",
       "         0.18758905, 0.00880906, 0.95837665, 0.13544225, 0.43859256,\n",
       "         0.78498555, 0.58021197])),\n",
       " (34, 16): (array([1, 0]), array([0.98147475, 1.        ])),\n",
       " (16,\n",
       "  34): (array([ 1,  0,  1,  4,  1,  4,  4,  6,  6,  7,  9,  9, 10, 16, 16, 16, 12]), array([0.90636134, 1.        , 0.12009663, 0.69553669, 0.98552958,\n",
       "         0.49742661, 0.27068395, 0.90929009, 0.04897415, 0.12303212,\n",
       "         0.97327941, 0.00851608, 0.79346557, 0.13093756, 0.42400537,\n",
       "         0.75887764, 0.46113739])),\n",
       " (34, 19): (array([0, 0]), array([1.        , 0.39983655])),\n",
       " (19,\n",
       "  34): (array([ 1,  0,  1,  4,  1,  4,  5,  6,  7,  7,  9, 12, 10, 16, 16, 16, 12]), array([0.94898264, 1.        , 0.12574413, 0.72824404, 0.84377526,\n",
       "         0.79529477, 0.75365896, 0.37952321, 0.05127714, 0.45798999,\n",
       "         0.26308715, 0.00891655, 0.02779301, 0.13709485, 0.44394407,\n",
       "         0.79456358, 0.62389606])),\n",
       " (34, 21): (array([1, 0]), array([0.61794557, 1.        ])),\n",
       " (21,\n",
       "  34): (array([ 1,  0,  4,  6,  1,  7,  4,  6,  7,  7,  9,  7, 10, 16, 16, 16, 12]), array([0.8791934 , 1.        , 0.11649677, 0.67468816, 0.19238431,\n",
       "         0.48251638, 0.85274277, 0.90497433, 0.04750616, 0.90126027,\n",
       "         0.79423191, 0.00826081, 0.64978269, 0.12701274, 0.41129592,\n",
       "         0.73613048, 0.3573907 ])),\n",
       " (34, 23): (array([0, 0]), array([1.        , 0.20179135])),\n",
       " (23,\n",
       "  34): (array([ 1,  0,  1,  4,  1,  6,  4,  6,  7,  7,  9, 12, 10, 16, 16, 16, 12]), array([0.9759381 , 1.        , 0.12931584, 0.7489295 , 0.75412401,\n",
       "         0.53561152, 0.6474573 , 0.69867828, 0.10546729, 0.66983107,\n",
       "         0.44098751, 0.00916982, 0.17060536, 0.14098897, 0.45655411,\n",
       "         0.81713282, 0.72683131])),\n",
       " (34, 24): (array([3, 3, 0, 2, 3]),\n",
       "  array([0.89455802, 0.42281902, 1.        , 0.90601215, 0.86735056])),\n",
       " (24,\n",
       "  34): (array([ 1,  0,  1,  6,  1,  7,  4,  6,  9,  7,  9, 10, 10, 16, 16, 16, 12]), array([0.90530964, 1.        , 0.11995728, 0.69472961, 0.98902746,\n",
       "         0.49684941, 0.72954945, 0.72392301, 0.04891732, 0.44288833,\n",
       "         0.11414625, 0.0170124 , 0.91868903, 0.26157126, 0.42351337,\n",
       "         0.75799707, 0.58790684])),\n",
       " (34, 30): (array([0, 0, 0, 2]),\n",
       "  array([1.        , 0.49518367, 0.79249905, 0.15575965])),\n",
       " (30,\n",
       "  34): (array([ 1,  0,  6,  7,  1,  7,  4,  6,  9,  7,  9, 10, 10, 16, 16, 16, 12]), array([0.84701793, 1.        , 0.11223338, 0.64999688, 0.29513344,\n",
       "         0.46485793, 0.11675157, 0.77802829, 0.0457676 , 0.99386958,\n",
       "         0.81507216, 0.0079585 , 0.60198107, 0.24472902, 0.3962439 ,\n",
       "         0.70919063, 0.3568862 ])),\n",
       " (34, 27): (array([1, 0]), array([0.52161464, 1.        ])),\n",
       " (27,\n",
       "  34): (array([ 1,  0,  1,  4,  1,  6,  4,  6,  7,  7,  9, 10, 10, 10, 12, 16, 12]), array([0.96444645, 1.        , 0.12779315, 0.74011087, 0.79234414,\n",
       "         0.52930471, 0.71048338, 0.78465119, 0.05211271, 0.83180632,\n",
       "         0.61743237, 0.00906184, 0.81886601, 0.27865766, 0.4511782 ,\n",
       "         0.8075111 , 0.94997601])),\n",
       " (24, 30): (array([0, 0, 0, 2]),\n",
       "  array([1.        , 0.26392847, 0.91077193, 0.166037  ])),\n",
       " (30, 24): (array([2, 3, 0, 2, 3]),\n",
       "  array([0.9340515 , 0.22074294, 1.        , 0.92366263, 0.90564286])),\n",
       " (24, 26): (array([0, 0, 0]), array([1.        , 0.15204872, 0.3849952 ])),\n",
       " (26, 24): (array([0, 0, 0, 0, 3]),\n",
       "  array([1.        , 0.27514117, 0.71189111, 0.68450346, 0.56441134])),\n",
       " (30, 27): (array([1, 0]), array([0.52161464, 1.        ])),\n",
       " (27, 30): (array([0, 0, 0, 2]),\n",
       "  array([1.        , 0.8517561 , 0.67558154, 0.26791924])),\n",
       " (26, 25): (array([2, 2, 0]), array([0.32914999, 0.83124179, 1.        ])),\n",
       " (25, 26): (array([0, 2, 0]), array([1.        , 0.39569128, 0.39760202]))}"
      ]
     },
     "execution_count": 17,
     "metadata": {},
     "output_type": "execute_result"
    }
   ],
   "source": [
    "# 二阶随机游走（考虑p、q值）\n",
    "alias_edges"
   ]
  },
  {
   "cell_type": "markdown",
   "id": "5dc55539",
   "metadata": {},
   "source": [
    "## 生成一条随机游走序列"
   ]
  },
  {
   "cell_type": "code",
   "execution_count": 18,
   "id": "4c8a3c4d",
   "metadata": {},
   "outputs": [],
   "source": [
    "def node2vec_walk(walk_length, start_node):\n",
    "    '''\n",
    "    从指定的起始节点，生成一个随机游走序列\n",
    "    '''\n",
    "    # 上一步计算出的alias table，完成O(1)的采样\n",
    "\n",
    "    walk = [start_node]\n",
    "\n",
    "    #  直到生成长度为walk_length的节点序列位为止\n",
    "    while len(walk) < walk_length:\n",
    "        cur = walk[-1]\n",
    "        # 对邻居节点排序，目的是和alias table计算时的顺序对应起来\n",
    "        cur_nbrs = sorted(G.neighbors(cur))\n",
    "        if len(cur_nbrs) > 0:\n",
    "            # 节点序列只有一个节点的情况\n",
    "            if len(walk) == 1:\n",
    "                walk.append(cur_nbrs[alias_draw(alias_nodes[cur][0], alias_nodes[cur][1])])\n",
    "            # 节点序列大于一个节点的情况\n",
    "            else:\n",
    "                # 看前一个节点,prev是论文中的节点t\n",
    "                prev = walk[-2]\n",
    "                next = cur_nbrs[alias_draw(alias_edges[(prev, cur)][0],\n",
    "                    alias_edges[(prev, cur)][1])]\n",
    "                walk.append(next)\n",
    "        else:\n",
    "            break\n",
    "\n",
    "    return walk"
   ]
  },
  {
   "cell_type": "code",
   "execution_count": 19,
   "id": "e93d324a",
   "metadata": {},
   "outputs": [
    {
     "data": {
      "text/plain": [
       "[3, 10, 34, 24, 28, 24, 30]"
      ]
     },
     "execution_count": 19,
     "metadata": {},
     "output_type": "execute_result"
    }
   ],
   "source": [
    "node2vec_walk(7, 3)"
   ]
  },
  {
   "cell_type": "code",
   "execution_count": 20,
   "id": "d8c0e042",
   "metadata": {},
   "outputs": [],
   "source": [
    "def simulate_walks(num_walks, walk_length):\n",
    "    '''\n",
    "    图中每个节点作为起始节点，生成 num_walk 个随机游走序列\n",
    "    '''\n",
    "    walks = []\n",
    "    nodes = list(G.nodes())\n",
    "    print('Walk iteration:')\n",
    "    for walk_iter in range(num_walks):\n",
    "        print(str(walk_iter+1), '/', str(num_walks))\n",
    "        # 打乱节点顺序\n",
    "        random.shuffle(nodes)\n",
    "        for node in nodes:\n",
    "            walks.append(node2vec_walk(walk_length=walk_length, start_node=node))\n",
    "\n",
    "    return walks"
   ]
  },
  {
   "cell_type": "code",
   "execution_count": 21,
   "id": "f27c2ab0",
   "metadata": {},
   "outputs": [
    {
     "name": "stdout",
     "output_type": "stream",
     "text": [
      "Walk iteration:\n",
      "1 / 3\n",
      "2 / 3\n",
      "3 / 3\n"
     ]
    },
    {
     "data": {
      "text/plain": [
       "[[22, 1, 32, 25, 32, 29, 32],\n",
       " [1, 13, 1, 32, 25, 32, 33],\n",
       " [8, 2, 1, 7, 17, 6, 7],\n",
       " [11, 1, 32, 1, 7, 1, 20],\n",
       " [9, 33, 32, 1, 7, 17, 7],\n",
       " [32, 33, 24, 34, 19, 33, 3],\n",
       " [33, 3, 8, 4, 8, 2, 4],\n",
       " [30, 33, 32, 29, 34, 29, 34],\n",
       " [3, 8, 4, 8, 2, 8, 3],\n",
       " [6, 1, 11, 1, 6, 11, 1],\n",
       " [4, 2, 4, 2, 1, 3, 9],\n",
       " [5, 7, 5, 1, 22, 1, 18],\n",
       " [15, 33, 15, 34, 21, 33, 16],\n",
       " [20, 34, 24, 30, 33, 24, 33],\n",
       " [7, 17, 7, 17, 7, 1, 7],\n",
       " [13, 1, 14, 3, 8, 4, 2],\n",
       " [31, 33, 15, 34, 16, 34, 21],\n",
       " [29, 34, 20, 1, 12, 1, 12],\n",
       " [14, 3, 8, 2, 1, 18, 1],\n",
       " [26, 24, 28, 25, 28, 25, 28],\n",
       " [27, 34, 27, 34, 21, 34, 21],\n",
       " [17, 6, 7, 1, 22, 1, 4],\n",
       " [12, 1, 18, 1, 2, 4, 8],\n",
       " [23, 33, 24, 26, 24, 26, 24],\n",
       " [34, 10, 3, 28, 24, 33, 24],\n",
       " [16, 34, 29, 34, 33, 32, 33],\n",
       " [28, 25, 28, 25, 28, 3, 28],\n",
       " [18, 1, 18, 1, 22, 1, 11],\n",
       " [10, 34, 32, 1, 20, 1, 3],\n",
       " [25, 28, 3, 1, 9, 1, 5],\n",
       " [19, 33, 32, 33, 30, 33, 9],\n",
       " [2, 4, 2, 4, 8, 4, 2],\n",
       " [21, 34, 16, 34, 16, 34, 9],\n",
       " [24, 34, 29, 34, 15, 34, 21],\n",
       " [12, 1, 22, 1, 22, 1, 2],\n",
       " [5, 1, 14, 1, 3, 8, 4],\n",
       " [15, 34, 33, 19, 33, 24, 30],\n",
       " [27, 34, 27, 34, 33, 16, 33],\n",
       " [29, 32, 25, 32, 33, 34, 19],\n",
       " [26, 24, 26, 32, 25, 32, 29],\n",
       " [31, 33, 32, 29, 32, 26, 25],\n",
       " [24, 28, 3, 28, 3, 28, 25],\n",
       " [8, 4, 8, 4, 3, 14, 3],\n",
       " [30, 33, 19, 33, 24, 30, 24],\n",
       " [20, 1, 6, 11, 6, 11, 1],\n",
       " [28, 3, 1, 9, 3, 33, 19],\n",
       " [22, 1, 22, 1, 12, 1, 5],\n",
       " [14, 2, 3, 14, 1, 18, 1],\n",
       " [3, 28, 3, 28, 3, 14, 1],\n",
       " [7, 17, 6, 17, 7, 6, 17],\n",
       " [11, 5, 1, 22, 2, 4, 8],\n",
       " [4, 13, 4, 13, 1, 4, 13],\n",
       " [23, 33, 15, 34, 33, 21, 34],\n",
       " [9, 3, 8, 4, 2, 4, 2],\n",
       " [25, 28, 3, 1, 18, 1, 18],\n",
       " [32, 26, 25, 32, 25, 32, 25],\n",
       " [6, 1, 3, 33, 16, 33, 32],\n",
       " [1, 14, 1, 18, 1, 14, 1],\n",
       " [18, 1, 7, 1, 5, 1, 20],\n",
       " [16, 33, 30, 33, 31, 34, 24],\n",
       " [10, 34, 33, 31, 33, 19, 33],\n",
       " [13, 1, 22, 1, 22, 1, 14],\n",
       " [19, 33, 19, 33, 24, 30, 24],\n",
       " [34, 10, 34, 31, 33, 31, 33],\n",
       " [21, 33, 3, 9, 1, 13, 4],\n",
       " [2, 4, 13, 4, 13, 4, 1],\n",
       " [17, 7, 17, 6, 1, 9, 3],\n",
       " [33, 9, 34, 27, 30, 33, 3],\n",
       " [15, 34, 24, 28, 3, 8, 2],\n",
       " [18, 1, 13, 4, 2, 4, 2],\n",
       " [8, 3, 28, 25, 28, 25, 28],\n",
       " [16, 34, 16, 34, 24, 30, 33],\n",
       " [25, 32, 25, 32, 1, 12, 1],\n",
       " [12, 1, 11, 1, 11, 1, 11],\n",
       " [22, 1, 22, 1, 2, 3, 1],\n",
       " [26, 24, 30, 24, 33, 34, 24],\n",
       " [28, 3, 33, 3, 9, 1, 9],\n",
       " [10, 3, 2, 4, 13, 1, 11],\n",
       " [2, 1, 22, 1, 12, 1, 12],\n",
       " [29, 34, 24, 30, 33, 3, 2],\n",
       " [31, 34, 29, 34, 31, 33, 30],\n",
       " [17, 7, 1, 7, 5, 1, 32],\n",
       " [5, 7, 1, 14, 3, 1, 2],\n",
       " [20, 34, 33, 24, 33, 21, 34],\n",
       " [1, 5, 11, 1, 14, 3, 28],\n",
       " [33, 32, 34, 27, 34, 24, 26],\n",
       " [4, 13, 1, 32, 33, 3, 33],\n",
       " [9, 3, 1, 22, 1, 18, 1],\n",
       " [11, 1, 5, 7, 17, 7, 17],\n",
       " [19, 33, 21, 34, 16, 33, 30],\n",
       " [13, 4, 13, 1, 13, 1, 12],\n",
       " [24, 26, 24, 33, 34, 32, 1],\n",
       " [34, 9, 3, 2, 1, 7, 17],\n",
       " [32, 33, 34, 21, 34, 33, 30],\n",
       " [14, 1, 20, 34, 16, 33, 19],\n",
       " [3, 28, 3, 28, 3, 28, 25],\n",
       " [23, 33, 34, 24, 28, 25, 32],\n",
       " [6, 11, 1, 11, 6, 1, 14],\n",
       " [7, 17, 7, 17, 6, 11, 5],\n",
       " [27, 34, 29, 32, 1, 32, 34],\n",
       " [30, 27, 34, 27, 30, 27, 34],\n",
       " [21, 34, 33, 21, 34, 10, 34]]"
      ]
     },
     "execution_count": 21,
     "metadata": {},
     "output_type": "execute_result"
    }
   ],
   "source": [
    "# 测试\n",
    "simulate_walks(3, 7)"
   ]
  },
  {
   "cell_type": "code",
   "execution_count": 22,
   "id": "117499ef",
   "metadata": {},
   "outputs": [
    {
     "data": {
      "text/plain": [
       "10"
      ]
     },
     "execution_count": 22,
     "metadata": {},
     "output_type": "execute_result"
    }
   ],
   "source": [
    "args.num_walks"
   ]
  },
  {
   "cell_type": "code",
   "execution_count": 23,
   "id": "e74116a3",
   "metadata": {},
   "outputs": [
    {
     "data": {
      "text/plain": [
       "80"
      ]
     },
     "execution_count": 23,
     "metadata": {},
     "output_type": "execute_result"
    }
   ],
   "source": [
    "args.walk_length"
   ]
  },
  {
   "cell_type": "code",
   "execution_count": 24,
   "id": "8bc6ee1d",
   "metadata": {},
   "outputs": [
    {
     "name": "stdout",
     "output_type": "stream",
     "text": [
      "Walk iteration:\n",
      "1 / 10\n",
      "2 / 10\n",
      "3 / 10\n",
      "4 / 10\n",
      "5 / 10\n",
      "6 / 10\n",
      "7 / 10\n",
      "8 / 10\n",
      "9 / 10\n",
      "10 / 10\n"
     ]
    }
   ],
   "source": [
    "# 生成训练用的随机游走序列\n",
    "walks = simulate_walks(args.num_walks, args.walk_length)"
   ]
  },
  {
   "cell_type": "code",
   "execution_count": 25,
   "id": "40390052",
   "metadata": {},
   "outputs": [
    {
     "data": {
      "text/plain": [
       "340"
      ]
     },
     "execution_count": 25,
     "metadata": {},
     "output_type": "execute_result"
    }
   ],
   "source": [
    "len(walks)"
   ]
  },
  {
   "cell_type": "code",
   "execution_count": 26,
   "id": "c3c09b4b",
   "metadata": {},
   "outputs": [
    {
     "data": {
      "text/plain": [
       "[14,\n",
       " 3,\n",
       " 28,\n",
       " 3,\n",
       " 9,\n",
       " 33,\n",
       " 32,\n",
       " 33,\n",
       " 24,\n",
       " 26,\n",
       " 24,\n",
       " 30,\n",
       " 33,\n",
       " 31,\n",
       " 34,\n",
       " 19,\n",
       " 34,\n",
       " 27,\n",
       " 30,\n",
       " 24,\n",
       " 30,\n",
       " 24,\n",
       " 30,\n",
       " 24,\n",
       " 33,\n",
       " 30,\n",
       " 34,\n",
       " 29,\n",
       " 32,\n",
       " 29,\n",
       " 32,\n",
       " 29,\n",
       " 34,\n",
       " 29,\n",
       " 32,\n",
       " 29,\n",
       " 34,\n",
       " 33,\n",
       " 19,\n",
       " 33,\n",
       " 19,\n",
       " 33,\n",
       " 19,\n",
       " 33,\n",
       " 16,\n",
       " 34,\n",
       " 29,\n",
       " 32,\n",
       " 34,\n",
       " 29,\n",
       " 32,\n",
       " 34,\n",
       " 33,\n",
       " 30,\n",
       " 33,\n",
       " 21,\n",
       " 34,\n",
       " 32,\n",
       " 1,\n",
       " 12,\n",
       " 1,\n",
       " 12,\n",
       " 1,\n",
       " 5,\n",
       " 11,\n",
       " 5,\n",
       " 1,\n",
       " 7,\n",
       " 1,\n",
       " 8,\n",
       " 2,\n",
       " 1,\n",
       " 7,\n",
       " 17,\n",
       " 7,\n",
       " 1,\n",
       " 13,\n",
       " 4,\n",
       " 1,\n",
       " 14]"
      ]
     },
     "execution_count": 26,
     "metadata": {},
     "output_type": "execute_result"
    }
   ],
   "source": [
    "walks[0]"
   ]
  },
  {
   "cell_type": "code",
   "execution_count": 27,
   "id": "181b9005",
   "metadata": {},
   "outputs": [],
   "source": [
    "# 将node的类型int转化为string\n",
    "walk_str = []\n",
    "for walk in walks:\n",
    "    tmp = []\n",
    "    for node in walk:\n",
    "        tmp.append(str(node))\n",
    "    walk_str.append(tmp)"
   ]
  },
  {
   "cell_type": "code",
   "execution_count": 28,
   "id": "38ca24cc",
   "metadata": {},
   "outputs": [
    {
     "data": {
      "text/plain": [
       "340"
      ]
     },
     "execution_count": 28,
     "metadata": {},
     "output_type": "execute_result"
    }
   ],
   "source": [
    "len(walk_str)"
   ]
  },
  {
   "cell_type": "code",
   "execution_count": 29,
   "id": "895223bc",
   "metadata": {},
   "outputs": [
    {
     "data": {
      "text/plain": [
       "['6',\n",
       " '17',\n",
       " '7',\n",
       " '1',\n",
       " '22',\n",
       " '2',\n",
       " '22',\n",
       " '1',\n",
       " '2',\n",
       " '8',\n",
       " '2',\n",
       " '4',\n",
       " '2',\n",
       " '4',\n",
       " '8',\n",
       " '2',\n",
       " '4',\n",
       " '2',\n",
       " '1',\n",
       " '2',\n",
       " '4',\n",
       " '13',\n",
       " '4',\n",
       " '3',\n",
       " '14',\n",
       " '3',\n",
       " '14',\n",
       " '3',\n",
       " '14',\n",
       " '1',\n",
       " '14',\n",
       " '1',\n",
       " '22',\n",
       " '1',\n",
       " '2',\n",
       " '1',\n",
       " '2',\n",
       " '1',\n",
       " '12',\n",
       " '1',\n",
       " '9',\n",
       " '3',\n",
       " '28',\n",
       " '3',\n",
       " '14',\n",
       " '4',\n",
       " '13',\n",
       " '4',\n",
       " '8',\n",
       " '4',\n",
       " '2',\n",
       " '4',\n",
       " '8',\n",
       " '4',\n",
       " '2',\n",
       " '1',\n",
       " '3',\n",
       " '33',\n",
       " '24',\n",
       " '30',\n",
       " '33',\n",
       " '24',\n",
       " '33',\n",
       " '19',\n",
       " '33',\n",
       " '19',\n",
       " '33',\n",
       " '32',\n",
       " '33',\n",
       " '21',\n",
       " '34',\n",
       " '27',\n",
       " '30',\n",
       " '33',\n",
       " '30',\n",
       " '24',\n",
       " '33',\n",
       " '24',\n",
       " '34',\n",
       " '29']"
      ]
     },
     "execution_count": 29,
     "metadata": {},
     "output_type": "execute_result"
    }
   ],
   "source": [
    "walk_str[1]"
   ]
  },
  {
   "cell_type": "markdown",
   "id": "d75a00e0",
   "metadata": {},
   "source": [
    "## 利用word2vec训练Node2Vec模型"
   ]
  },
  {
   "cell_type": "code",
   "execution_count": 30,
   "id": "1e45295b",
   "metadata": {},
   "outputs": [],
   "source": [
    "# 调用 gensim 包运行 word2vec\n",
    "model = Word2Vec(walk_str, vector_size=args.dimensions, window=args.window_size, min_count=0, sg=1, workers=args.workers)\n"
   ]
  },
  {
   "cell_type": "code",
   "execution_count": 31,
   "id": "38fcc988",
   "metadata": {},
   "outputs": [],
   "source": [
    "# 导出embedding文件\n",
    "model.wv.save_word2vec_format(args.output)"
   ]
  },
  {
   "cell_type": "markdown",
   "id": "b40ee51d",
   "metadata": {},
   "source": [
    "## 结果分析和可视化"
   ]
  },
  {
   "cell_type": "code",
   "execution_count": 32,
   "id": "a6d1f364",
   "metadata": {},
   "outputs": [
    {
     "data": {
      "text/plain": [
       "(128,)"
      ]
     },
     "execution_count": 32,
     "metadata": {},
     "output_type": "execute_result"
    }
   ],
   "source": [
    "model.wv.get_vector('17').shape"
   ]
  },
  {
   "cell_type": "code",
   "execution_count": 33,
   "id": "e8677a47",
   "metadata": {},
   "outputs": [
    {
     "data": {
      "text/plain": [
       "array([ 1.05331764e-01,  3.53508480e-02,  3.16153675e-01, -8.53995085e-02,\n",
       "        4.43239212e-02, -2.22755507e-01, -6.39808699e-02,  2.91696876e-01,\n",
       "       -3.72286104e-02,  1.65654778e-01,  8.44149217e-02, -2.16175452e-01,\n",
       "       -1.31882736e-02, -2.91716959e-02,  5.21940514e-02, -2.56205976e-01,\n",
       "        1.29163265e-01,  1.82471544e-01, -1.98517472e-01, -9.15718600e-02,\n",
       "        2.09194012e-02,  1.47161424e-01, -4.35315669e-02, -3.09679788e-02,\n",
       "       -9.07833427e-02, -3.26535031e-02, -1.43888928e-02,  1.81915224e-01,\n",
       "       -5.74644282e-02,  5.07078692e-02, -2.42041141e-01,  1.32523343e-01,\n",
       "        3.44694988e-03, -6.95159808e-02, -1.60145462e-01, -1.51061669e-01,\n",
       "        2.31893867e-01, -1.23759426e-01, -1.26168141e-02, -2.02046782e-02,\n",
       "        1.68645591e-03,  5.14064841e-02, -2.57930279e-01,  2.31150836e-02,\n",
       "       -5.25956452e-02, -1.11193955e-01, -5.70762949e-03, -2.65422881e-01,\n",
       "       -6.67972043e-02,  1.64472371e-01,  8.83717015e-02,  3.56821209e-01,\n",
       "        1.15703739e-01,  4.68783379e-02,  8.51652473e-02,  4.66822239e-04,\n",
       "        2.66619146e-01,  1.03185013e-01, -3.35230678e-02,  2.92191088e-01,\n",
       "       -2.11605672e-02, -5.37211075e-02,  2.22278669e-01, -1.18631590e-02,\n",
       "        7.16269836e-02, -1.05898216e-01,  2.91775842e-03, -1.61228366e-02,\n",
       "       -2.99933720e-02,  3.69423926e-02,  1.43412992e-01,  2.13470995e-01,\n",
       "       -2.21711397e-01,  2.14624796e-02,  1.33221909e-01, -3.88146341e-01,\n",
       "       -2.43572984e-02, -1.72553509e-01, -4.69898768e-02,  5.08620851e-02,\n",
       "        4.03421884e-03, -2.08710536e-01,  2.03581244e-01,  1.58108160e-01,\n",
       "        7.04125734e-03,  1.68014109e-01,  3.57514977e-01,  8.68133828e-03,\n",
       "        4.04897630e-02,  3.01951915e-01, -1.66194603e-01, -1.79785974e-02,\n",
       "       -3.89376981e-03,  1.32252559e-01,  2.91849356e-02,  2.07150310e-01,\n",
       "       -2.22160921e-01, -4.91885573e-01, -1.59275293e-01, -2.96763591e-02,\n",
       "       -1.09500624e-01,  8.50228965e-02,  2.58355737e-02,  2.01651797e-01,\n",
       "        1.30924404e-01, -1.45859972e-01, -3.58674340e-02, -3.20526063e-01,\n",
       "       -8.36201236e-02,  1.73422590e-01,  7.83092082e-02, -3.16705927e-02,\n",
       "       -3.75763141e-02,  3.52528036e-01, -2.90634662e-01,  1.58897832e-01,\n",
       "        1.05577400e-02, -3.39820273e-02,  3.48547027e-02,  2.29905277e-01,\n",
       "       -8.21562931e-02, -2.78454810e-01,  2.15730309e-01,  4.75465246e-02,\n",
       "        2.41105422e-01, -1.21211000e-01, -1.52471691e-01,  2.70865679e-01],\n",
       "      dtype=float32)"
      ]
     },
     "execution_count": 33,
     "metadata": {},
     "output_type": "execute_result"
    }
   ],
   "source": [
    "model.wv.get_vector('17')"
   ]
  },
  {
   "cell_type": "code",
   "execution_count": 34,
   "id": "3ba2cf69",
   "metadata": {},
   "outputs": [
    {
     "data": {
      "image/png": "[encoded data removed]",
      "text/plain": [
       "<Figure size 432x288 with 1 Axes>"
      ]
     },
     "metadata": {},
     "output_type": "display_data"
    }
   ],
   "source": [
    "pos = nx.spring_layout(G, seed=4)\n",
    "nx.draw(G, pos, with_labels=True)\n",
    "plt.show()"
   ]
  },
  {
   "cell_type": "code",
   "execution_count": 35,
   "id": "b6bce94f",
   "metadata": {},
   "outputs": [],
   "source": [
    "# 自定义相似性距离度量指标\n",
    "from scipy import spatial\n",
    "def cos_similarity(v1, v2):\n",
    "    # 余弦相似度\n",
    "    return 1 - spatial.distance.cosine(v1, v2)"
   ]
  },
  {
   "cell_type": "code",
   "execution_count": 36,
   "id": "db004ba0",
   "metadata": {},
   "outputs": [],
   "source": [
    "v1 = model.wv.get_vector('25')\n",
    "v2 = model.wv.get_vector('26')"
   ]
  },
  {
   "cell_type": "code",
   "execution_count": 37,
   "id": "6e76fe28",
   "metadata": {},
   "outputs": [
    {
     "data": {
      "text/plain": [
       "0.8300999402999878"
      ]
     },
     "execution_count": 37,
     "metadata": {},
     "output_type": "execute_result"
    }
   ],
   "source": [
    "cos_similarity(v1, v2)"
   ]
  },
  {
   "cell_type": "markdown",
   "id": "07f50af6",
   "metadata": {},
   "source": [
    "### Node Embedding聚类"
   ]
  },
  {
   "cell_type": "code",
   "execution_count": 38,
   "id": "57e3ff1f",
   "metadata": {},
   "outputs": [],
   "source": [
    "# # DBSCAN聚类\n",
    "# from sklearn.cluster import DBSCAN\n",
    "# cluster_labels = DBSCAN(eps=0.5, min_samples=6).fit(X).labels_\n",
    "# print(cluster_labels)\n",
    "\n",
    "# KMeans聚类\n",
    "from sklearn.cluster import KMeans\n",
    "import numpy as np\n",
    "\n",
    "X = model.wv.vectors\n",
    "cluster_labels = KMeans(n_clusters=3, random_state=9).fit(X).labels_"
   ]
  },
  {
   "cell_type": "code",
   "execution_count": 39,
   "id": "078ce310",
   "metadata": {},
   "outputs": [
    {
     "data": {
      "text/plain": [
       "array([2, 1, 1, 2, 1, 1, 2, 2, 1, 1, 1, 0, 2, 2, 1, 1, 1, 1, 0, 1, 1, 0,\n",
       "       2, 2, 1, 2, 2, 0, 2, 1, 1, 0, 1, 1])"
      ]
     },
     "execution_count": 39,
     "metadata": {},
     "output_type": "execute_result"
    }
   ],
   "source": [
    "cluster_labels"
   ]
  },
  {
   "cell_type": "code",
   "execution_count": 40,
   "id": "541a252d",
   "metadata": {},
   "outputs": [],
   "source": [
    "colors = []\n",
    "nodes = list(G.nodes)\n",
    "for node in nodes: # 按 networkx 的顺序遍历每个节点\n",
    "    idx = model.wv.key_to_index[str(node)] # 获取这个节点在 embedding 中的索引号\n",
    "    colors.append(cluster_labels[idx]) # 获取这个节点的聚类结果"
   ]
  },
  {
   "cell_type": "code",
   "execution_count": 41,
   "id": "a534f9b4",
   "metadata": {},
   "outputs": [
    {
     "data": {
      "text/plain": [
       "[2,\n",
       " 1,\n",
       " 2,\n",
       " 2,\n",
       " 2,\n",
       " 2,\n",
       " 2,\n",
       " 2,\n",
       " 0,\n",
       " 1,\n",
       " 2,\n",
       " 0,\n",
       " 0,\n",
       " 0,\n",
       " 2,\n",
       " 2,\n",
       " 2,\n",
       " 1,\n",
       " 1,\n",
       " 1,\n",
       " 1,\n",
       " 1,\n",
       " 0,\n",
       " 1,\n",
       " 1,\n",
       " 1,\n",
       " 1,\n",
       " 1,\n",
       " 1,\n",
       " 1,\n",
       " 1,\n",
       " 1,\n",
       " 1,\n",
       " 1]"
      ]
     },
     "execution_count": 41,
     "metadata": {},
     "output_type": "execute_result"
    }
   ],
   "source": [
    "colors"
   ]
  },
  {
   "cell_type": "code",
   "execution_count": 42,
   "id": "f788e2e4",
   "metadata": {},
   "outputs": [
    {
     "data": {
      "image/png": "[encoded data removed]",
      "text/plain": [
       "<Figure size 432x288 with 1 Axes>"
      ]
     },
     "metadata": {},
     "output_type": "display_data"
    }
   ],
   "source": [
    "pos = nx.spring_layout(G, seed=4)\n",
    "nx.draw(G, pos, node_color=colors, with_labels=True)\n",
    "plt.show()"
   ]
  },
  {
   "cell_type": "code",
   "execution_count": null,
   "id": "6448651c",
   "metadata": {},
   "outputs": [],
   "source": []
  }
 ],
 "metadata": {
  "kernelspec": {
   "display_name": "Python 3 (ipykernel)",
   "language": "python",
   "name": "python3"
  },
  "language_info": {
   "codemirror_mode": {
    "name": "ipython",
    "version": 3
   },
   "file_extension": ".py",
   "mimetype": "text/x-python",
   "name": "python",
   "nbconvert_exporter": "python",
   "pygments_lexer": "ipython3",
   "version": "3.9.12"
  }
 },
 "nbformat": 4,
 "nbformat_minor": 5
}
